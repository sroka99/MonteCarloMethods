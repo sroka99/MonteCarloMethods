{
 "cells": [
  {
   "cell_type": "code",
   "execution_count": 1,
   "metadata": {},
   "outputs": [],
   "source": [
    "import math\n",
    "import random as r\n",
    "import matplotlib.pyplot as plt"
   ]
  },
  {
   "cell_type": "code",
   "execution_count": 2,
   "metadata": {},
   "outputs": [],
   "source": [
    "def f1(x:float) -> float:\n",
    "    return (1/(2*math.pi)**(1/2))*math.e**((-x**2)/2)\n"
   ]
  },
  {
   "attachments": {},
   "cell_type": "markdown",
   "metadata": {},
   "source": [
    "### Hit or miss"
   ]
  },
  {
   "cell_type": "code",
   "execution_count": 5,
   "metadata": {},
   "outputs": [],
   "source": [
    "def HoMf1(n:int) -> float:\n",
    "    i=0\n",
    "    count = 0\n",
    "    while i<n:\n",
    "        xvalue = r.random()\n",
    "        yvalue = r.random()\n",
    "        if yvalue < f1(xvalue):\n",
    "            count = count +1#\n",
    "        i=i+1\n",
    "    return count/n    "
   ]
  },
  {
   "cell_type": "code",
   "execution_count": 50,
   "metadata": {},
   "outputs": [
    {
     "data": {
      "text/plain": [
       "0.341229"
      ]
     },
     "execution_count": 50,
     "metadata": {},
     "output_type": "execute_result"
    }
   ],
   "source": [
    "HoMf1(10**6)  ##wolphram 0.34134474606854294858523254563203792247"
   ]
  },
  {
   "attachments": {},
   "cell_type": "markdown",
   "metadata": {},
   "source": [
    "### Crude"
   ]
  },
  {
   "cell_type": "code",
   "execution_count": 7,
   "metadata": {},
   "outputs": [],
   "source": [
    "def crudef1(n:int) -> float:\n",
    "    i=0\n",
    "    count = 0\n",
    "    sum = 0\n",
    "    while i<n:\n",
    "        xvalue = r.random()\n",
    "        sum = sum + f1(xvalue) \n",
    "        i=i+1\n",
    "    return sum/i    "
   ]
  },
  {
   "cell_type": "code",
   "execution_count": 8,
   "metadata": {},
   "outputs": [
    {
     "data": {
      "text/plain": [
       "0.3413539843360846"
      ]
     },
     "execution_count": 8,
     "metadata": {},
     "output_type": "execute_result"
    }
   ],
   "source": [
    "crudef1(10**6)"
   ]
  },
  {
   "attachments": {},
   "cell_type": "markdown",
   "metadata": {},
   "source": [
    "### Next function"
   ]
  },
  {
   "cell_type": "code",
   "execution_count": 9,
   "metadata": {},
   "outputs": [],
   "source": [
    "def f2(r:float,psi:float) -> float:\n",
    "    return (1/4)*(1-r**2)**(1/2)"
   ]
  },
  {
   "attachments": {},
   "cell_type": "markdown",
   "metadata": {},
   "source": [
    "### Hit or miss"
   ]
  },
  {
   "cell_type": "code",
   "execution_count": 10,
   "metadata": {},
   "outputs": [],
   "source": [
    "### Hit or miss\n",
    "def HoMf2(n:int) -> float:\n",
    "    i=0\n",
    "    count = 0\n",
    "    while i<n:\n",
    "        xvalue = r.random()\n",
    "        yvalue = r.random()\n",
    "        if yvalue < f2(xvalue,xvalue):\n",
    "            count = count +1\n",
    "        i=i+1\n",
    "    return (count/(n))*2*math.pi   \n"
   ]
  },
  {
   "cell_type": "code",
   "execution_count": 11,
   "metadata": {},
   "outputs": [
    {
     "data": {
      "text/plain": [
       "1.2354124614682644"
      ]
     },
     "execution_count": 11,
     "metadata": {},
     "output_type": "execute_result"
    }
   ],
   "source": [
    "HoMf2(10**6)"
   ]
  },
  {
   "attachments": {},
   "cell_type": "markdown",
   "metadata": {},
   "source": [
    "### Curde"
   ]
  },
  {
   "cell_type": "code",
   "execution_count": 12,
   "metadata": {},
   "outputs": [],
   "source": [
    "def crudef2(n:int) -> float:\n",
    "    i=0\n",
    "    count = 0\n",
    "    sum = 0\n",
    "    while i<n:\n",
    "        xvalue = r.random()\n",
    "        sum = sum + f2(xvalue,xvalue) \n",
    "        i=i+1\n",
    "    return (sum/i)*2*math.pi      "
   ]
  },
  {
   "cell_type": "code",
   "execution_count": 13,
   "metadata": {},
   "outputs": [
    {
     "data": {
      "text/plain": [
       "1.2336888326908215"
      ]
     },
     "execution_count": 13,
     "metadata": {},
     "output_type": "execute_result"
    }
   ],
   "source": [
    "crudef2(10**6)"
   ]
  },
  {
   "attachments": {},
   "cell_type": "markdown",
   "metadata": {},
   "source": [
    "### Igla buffona"
   ]
  },
  {
   "cell_type": "code",
   "execution_count": 33,
   "metadata": {},
   "outputs": [],
   "source": [
    "def buffon(length:float)->list:    \n",
    "    angle   =   r.random()*math.pi\n",
    "    main_point =(r.random(),r.random())\n",
    "    x1 = (main_point[0] + (length/2)*math.sin(angle))\n",
    "    y1 = (main_point[1] + (length/2)*math.cos(angle))\n",
    "    x2 = (main_point[0] - (length/2)*math.sin(angle))\n",
    "    y2 = (main_point[1] - (length/2)*math.cos(angle))\n",
    "    return [[x1,x2],[y1,y2]]\n"
   ]
  },
  {
   "cell_type": "code",
   "execution_count": 55,
   "metadata": {},
   "outputs": [],
   "source": [
    "def estymator(samples:int):\n",
    "    i:int =0\n",
    "    green_count:int = 0\n",
    "    red_count:int = 0\n",
    "    while i < samples:\n",
    "        igla:list   =   buffon(1)\n",
    "        iglax:list  =   igla[0]\n",
    "        iglay:list  =   igla[1]\n",
    "        if (iglax[0] >0 and iglax[1] < 0) or (iglax[0] >1 and iglax[1] < 1):\n",
    "            #plt.plot(igla[0],igla[1],color = 'green')\n",
    "            green_count = green_count+1\n",
    "        else:\n",
    "            #plt.plot(igla[0],igla[1],color = 'red')\n",
    "            red_count = red_count +1 \n",
    "        i=i+1\n",
    "    #plt.plot([0,0],[-1,1],color = 'black')\n",
    "    #plt.plot([1,1],[-1,1],color = 'black')\n",
    "    #plt.plot([-1,-1],[-1,1],color = 'black')\n",
    "    #plt.show()\n",
    "    prob = green_count/samples\n",
    "    print(f\"Estymacja \\u03C0 = {2/prob} \\n Wartosc \\u03C0 okreslona w bibliotece math = {math.pi} \\n Blad bezwzgledny {abs(math.pi - 2/prob) }\")"
   ]
  },
  {
   "cell_type": "code",
   "execution_count": 56,
   "metadata": {},
   "outputs": [
    {
     "name": "stdout",
     "output_type": "stream",
     "text": [
      "Estymacja π = 3.1418481607620867 \n",
      " Wartosc π okreslona w bibliotece math = 3.141592653589793 \n",
      " Blad bezwzgledny 0.00025550717229361197\n"
     ]
    }
   ],
   "source": [
    "estymator(10**6)"
   ]
  },
  {
   "attachments": {},
   "cell_type": "markdown",
   "metadata": {},
   "source": [
    "## Stratified Sampling"
   ]
  },
  {
   "cell_type": "code",
   "execution_count": 109,
   "metadata": {},
   "outputs": [],
   "source": [
    "def ssampling(n:int) ->list :\n",
    "    i:int=0\n",
    "    sum:float = 0\n",
    "    while i < n/5:\n",
    "        for j in [1,2,3,4,5]:\n",
    "            x = r.random()*(1/5) + ((j-1)/5)\n",
    "            sum = sum+f1(x)\n",
    "        i=i+1\n",
    "    return sum/n       \n"
   ]
  },
  {
   "cell_type": "code",
   "execution_count": 110,
   "metadata": {},
   "outputs": [
    {
     "data": {
      "text/plain": [
       "0.3413645230439082"
      ]
     },
     "execution_count": 110,
     "metadata": {},
     "output_type": "execute_result"
    }
   ],
   "source": [
    "ssampling(10**6)"
   ]
  },
  {
   "cell_type": "code",
   "execution_count": null,
   "metadata": {},
   "outputs": [],
   "source": []
  },
  {
   "cell_type": "code",
   "execution_count": null,
   "metadata": {},
   "outputs": [],
   "source": []
  }
 ],
 "metadata": {
  "kernelspec": {
   "display_name": ".venv",
   "language": "python",
   "name": "python3"
  },
  "language_info": {
   "codemirror_mode": {
    "name": "ipython",
    "version": 3
   },
   "file_extension": ".py",
   "mimetype": "text/x-python",
   "name": "python",
   "nbconvert_exporter": "python",
   "pygments_lexer": "ipython3",
   "version": "3.9.13"
  },
  "orig_nbformat": 4
 },
 "nbformat": 4,
 "nbformat_minor": 2
}
